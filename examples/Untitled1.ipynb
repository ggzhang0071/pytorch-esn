{
 "cells": [
  {
   "cell_type": "code",
   "execution_count": 4,
   "metadata": {},
   "outputs": [
    {
     "ename": "NameError",
     "evalue": "name 'hiddensize' is not defined",
     "output_type": "error",
     "traceback": [
      "\u001b[0;31m---------------------------------------------------------------------------\u001b[0m",
      "\u001b[0;31mNameError\u001b[0m                                 Traceback (most recent call last)",
      "\u001b[0;32m<ipython-input-4-a17efb24904e>\u001b[0m in \u001b[0;36m<module>\u001b[0;34m\u001b[0m\n\u001b[1;32m     36\u001b[0m \u001b[0mtrY_flat\u001b[0m \u001b[0;34m=\u001b[0m \u001b[0mutils\u001b[0m\u001b[0;34m.\u001b[0m\u001b[0mprepare_target\u001b[0m\u001b[0;34m(\u001b[0m\u001b[0mtrY\u001b[0m\u001b[0;34m.\u001b[0m\u001b[0mclone\u001b[0m\u001b[0;34m(\u001b[0m\u001b[0;34m)\u001b[0m\u001b[0;34m,\u001b[0m \u001b[0;34m[\u001b[0m\u001b[0mtrX\u001b[0m\u001b[0;34m.\u001b[0m\u001b[0msize\u001b[0m\u001b[0;34m(\u001b[0m\u001b[0;36m0\u001b[0m\u001b[0;34m)\u001b[0m\u001b[0;34m]\u001b[0m\u001b[0;34m,\u001b[0m \u001b[0mwashout\u001b[0m\u001b[0;34m)\u001b[0m\u001b[0;34m\u001b[0m\u001b[0;34m\u001b[0m\u001b[0m\n\u001b[1;32m     37\u001b[0m \u001b[0;34m\u001b[0m\u001b[0m\n\u001b[0;32m---> 38\u001b[0;31m \u001b[0mmodel\u001b[0m \u001b[0;34m=\u001b[0m \u001b[0mESN\u001b[0m\u001b[0;34m(\u001b[0m\u001b[0minput_size\u001b[0m\u001b[0;34m,\u001b[0m \u001b[0mhidden_size\u001b[0m\u001b[0;34m=\u001b[0m\u001b[0mhiddensize\u001b[0m\u001b[0;34m,\u001b[0m \u001b[0moutput_size\u001b[0m\u001b[0;34m=\u001b[0m\u001b[0moutput_size\u001b[0m\u001b[0;34m,\u001b[0m \u001b[0mnum_layers\u001b[0m\u001b[0;34m=\u001b[0m\u001b[0mnumlayers\u001b[0m\u001b[0;34m)\u001b[0m\u001b[0;34m\u001b[0m\u001b[0;34m\u001b[0m\u001b[0m\n\u001b[0m\u001b[1;32m     39\u001b[0m \u001b[0mmodel\u001b[0m\u001b[0;34m.\u001b[0m\u001b[0mto\u001b[0m\u001b[0;34m(\u001b[0m\u001b[0mdevice\u001b[0m\u001b[0;34m)\u001b[0m\u001b[0;34m\u001b[0m\u001b[0;34m\u001b[0m\u001b[0m\n\u001b[1;32m     40\u001b[0m \u001b[0;34m\u001b[0m\u001b[0m\n",
      "\u001b[0;31mNameError\u001b[0m: name 'hiddensize' is not defined"
     ]
    }
   ],
   "source": [
    "import sys\n",
    "sys.path.append('../')\n",
    "import torch.nn\n",
    "import numpy as np\n",
    "from torchesn.nn import ESN\n",
    "from torchesn import utils\n",
    "import time\n",
    "\n",
    "device = torch.device('cuda')\n",
    "dtype = torch.double\n",
    "torch.set_default_dtype(dtype)\n",
    "\n",
    "if dtype == torch.double:\n",
    "    data = np.loadtxt('../datasets/mg17.csv', delimiter=',', dtype=np.float64)\n",
    "elif dtype == torch.float:\n",
    "    data = np.loadtxt('../datasets/mg17.csv', delimiter=',', dtype=np.float32)\n",
    "X_data = np.expand_dims(data[:, [0]], axis=1)\n",
    "Y_data = np.expand_dims(data[:, [1]], axis=1)\n",
    "X_data = torch.from_numpy(X_data).to(device)\n",
    "Y_data = torch.from_numpy(Y_data).to(device)\n",
    "\n",
    "trX = X_data[:5000]\n",
    "trY = Y_data[:5000]\n",
    "tsX = X_data[5000:]\n",
    "tsY = Y_data[5000:]\n",
    "\n",
    "washout = [500]\n",
    "input_size = output_size = 1\n",
    "hidden_size = 500\n",
    "loss_fcn = torch.nn.MSELoss()\n",
    "\n",
    "# if __name__ == \"__main__\":\n",
    "start = time.time()\n",
    "\n",
    "    # Training\n",
    "trY_flat = utils.prepare_target(trY.clone(), [trX.size(0)], washout)\n",
    "\n",
    "model = ESN(input_size, hidden_size=hiddensize, output_size=output_size, num_layers=numlayers)\n",
    "model.to(device)\n",
    "\n",
    "model(trX, washout, None, trY_flat)\n",
    "model.fit()\n",
    "output, hidden = model(trX, washout)\n",
    "print(\"Training error:\", loss_fcn(output, trY[washout[0]:]).item())\n",
    "\n",
    "    # Test\n",
    "output, hidden = model(tsX, [0], hidden)\n",
    "print(\"Test error:\", loss_fcn(output, tsY).item())\n",
    "print(\"Ended in\", time.time() - start, \"seconds.\")\n"
   ]
  },
  {
   "cell_type": "code",
   "execution_count": null,
   "metadata": {},
   "outputs": [],
   "source": []
  }
 ],
 "metadata": {
  "kernelspec": {
   "display_name": "Python 3",
   "language": "python",
   "name": "python3"
  },
  "language_info": {
   "codemirror_mode": {
    "name": "ipython",
    "version": 3
   },
   "file_extension": ".py",
   "mimetype": "text/x-python",
   "name": "python",
   "nbconvert_exporter": "python",
   "pygments_lexer": "ipython3",
   "version": "3.6.8"
  }
 },
 "nbformat": 4,
 "nbformat_minor": 2
}
