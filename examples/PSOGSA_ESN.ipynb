{
 "cells": [
  {
   "cell_type": "code",
   "execution_count": 2,
   "metadata": {
    "scrolled": true
   },
   "outputs": [
    {
     "name": "stdout",
     "output_type": "stream",
     "text": [
      "Automatic pdb calling has been turned OFF\n",
      "[538.           4.          -0.82709214]\n",
      "Test error: 9.276175444759734e-10\n",
      "[446.           7.          -0.79337348]\n",
      "Test error: 4.861146265812412e-10\n"
     ]
    },
    {
     "ename": "ValueError",
     "evalue": "operands could not be broadcast together with shapes (5,) (3,) ",
     "output_type": "error",
     "traceback": [
      "\u001b[0;31m---------------------------------------------------------------------------\u001b[0m",
      "\u001b[0;31mValueError\u001b[0m                                Traceback (most recent call last)",
      "\u001b[0;32m<ipython-input-2-8e604ae1a26d>\u001b[0m in \u001b[0;36m<module>\u001b[0;34m\u001b[0m\n\u001b[1;32m    104\u001b[0m     \u001b[0;31m# velocity\u001b[0m\u001b[0;34m\u001b[0m\u001b[0;34m\u001b[0m\u001b[0;34m\u001b[0m\u001b[0m\n\u001b[1;32m    105\u001b[0m     \u001b[0;32mfor\u001b[0m \u001b[0mp\u001b[0m \u001b[0;32min\u001b[0m \u001b[0mparticles\u001b[0m\u001b[0;34m:\u001b[0m\u001b[0;34m\u001b[0m\u001b[0;34m\u001b[0m\u001b[0m\n\u001b[0;32m--> 106\u001b[0;31m         \u001b[0mp\u001b[0m\u001b[0;34m.\u001b[0m\u001b[0mvelocity\u001b[0m \u001b[0;34m=\u001b[0m \u001b[0mw\u001b[0m\u001b[0;34m*\u001b[0m\u001b[0mp\u001b[0m\u001b[0;34m.\u001b[0m\u001b[0mvelocity\u001b[0m\u001b[0;34m+\u001b[0m\u001b[0mrnd\u001b[0m\u001b[0;34m.\u001b[0m\u001b[0mrand\u001b[0m\u001b[0;34m(\u001b[0m\u001b[0;34m)\u001b[0m\u001b[0;34m*\u001b[0m\u001b[0mp\u001b[0m\u001b[0;34m.\u001b[0m\u001b[0macceleration\u001b[0m\u001b[0;34m+\u001b[0m\u001b[0mrnd\u001b[0m\u001b[0;34m.\u001b[0m\u001b[0mrand\u001b[0m\u001b[0;34m(\u001b[0m\u001b[0;34m)\u001b[0m\u001b[0;34m*\u001b[0m\u001b[0;34m(\u001b[0m\u001b[0mgbest\u001b[0m \u001b[0;34m-\u001b[0m \u001b[0mp\u001b[0m\u001b[0;34m.\u001b[0m\u001b[0mparams\u001b[0m\u001b[0;34m)\u001b[0m\u001b[0;34m\u001b[0m\u001b[0;34m\u001b[0m\u001b[0m\n\u001b[0m\u001b[1;32m    107\u001b[0m \u001b[0;34m\u001b[0m\u001b[0m\n\u001b[1;32m    108\u001b[0m     \u001b[0;31m# position\u001b[0m\u001b[0;34m\u001b[0m\u001b[0;34m\u001b[0m\u001b[0;34m\u001b[0m\u001b[0m\n",
      "\u001b[0;31mValueError\u001b[0m: operands could not be broadcast together with shapes (5,) (3,) "
     ]
    }
   ],
   "source": [
    "import TorchESN as TN\n",
    "import os\n",
    "import numpy as np\n",
    "from numpy import random as rnd\n",
    "import pandas as pd\n",
    "from sklearn.preprocessing import LabelEncoder\n",
    "from sklearn.utils import shuffle\n",
    "import sys\n",
    "import random\n",
    "import matplotlib.pyplot as plt\n",
    "import SaveDataCsv as SV\n",
    "from ipdb import set_trace\n",
    "def PSOGSAESN(max_iters,num_particles)\n",
    "np.seterr(divide='ignore', invalid='ignore')\n",
    "# %config InlineBackend.figure_format = 'retina'\n",
    "\n",
    "def euclid_dist(x,y):\n",
    "    temp = 0   \n",
    "    for i,j in zip(x,y):\n",
    "        temp += (i-j)**2\n",
    "        final = np.sqrt(temp)\n",
    "    return final\n",
    "c1 = 2\n",
    "c2 = 2\n",
    " = 2\n",
    "g0 = 1\n",
    "hidden_nodes = 15  \n",
    "dim =5\n",
    "w=2;                 \n",
    "wMax=0.9            \n",
    "wMin=0.5              \n",
    "current_fitness = np.zeros((num_particles,1))\n",
    "gbest = np.zeros((1,dim))\n",
    "gbest_score = float('inf')\n",
    "OldBest=float('inf')\n",
    "\n",
    "convergence = np.zeros(max_iters)\n",
    "alpha = 20\n",
    "epsilon = 1\n",
    "\n",
    "class Particle:\n",
    "    pass\n",
    "\n",
    "#all particle initialized\n",
    "particles = []\n",
    "for i in range(num_particles):\n",
    "    p = Particle()\n",
    "    p.params =np.array([np.random.randint(400,700), np.random.randint(1,10), np.random.uniform(-1,1)])\n",
    "    p.fitness = rnd.rand()\n",
    "    p.velocity = 0.3*rnd.randn(dim)\n",
    "    p.res_force = rnd.rand()\n",
    "    p.acceleration = rnd.randn(dim)\n",
    "    p.force = np.zeros(dim)\n",
    "    p.id = i\n",
    "    particles.append(p)\n",
    "\n",
    "#training \n",
    "for i in range(max_iters):\n",
    "    # gravitational constant\n",
    "    g = g0*np.exp((-alpha*i)/max_iters)\n",
    "    # calculate mse\n",
    "    cf = 0    \n",
    "    for p in particles:\n",
    "        fitness = 0\n",
    "        y_train = 0\n",
    "        print(p.params)\n",
    "        fitness = TN.torch_ESN(p.params)\n",
    "#         fitness = fitness/X.shape[0]\n",
    "        OldFitness=fitness\n",
    "        current_fitness[cf] = fitness\n",
    "        cf += 1\n",
    "        \n",
    "        if gbest_score > fitness and OldBest>fitness:\n",
    "            OldBest=gbest_score\n",
    "            gbest_score = fitness\n",
    "            gbest = p.params\n",
    "    \n",
    "    best_fit = min(current_fitness)\n",
    "    worst_fit = max(current_fitness)\n",
    "    \n",
    "    for p in particles:\n",
    "        p.mass = (current_fitness[particles.index(p)]-0.99*worst_fit)/(best_fit-worst_fit)\n",
    "    \n",
    "    for p in particles:\n",
    "        p.mass = p.mass*5/sum([p.mass for p in particles])\n",
    "    \n",
    "    \n",
    "    # gravitational force\n",
    "    for p in particles:\n",
    "        for x in particles[particles.index(p)+1:]:\n",
    "            p.force = (g*(x.mass*p.mass)*(p.params - x.params))/(euclid_dist(p.params,x.params))\n",
    "    \n",
    "    # resultant force\n",
    "    for p in particles:\n",
    "        p.res_force = p.res_force+rnd.rand()*p.force\n",
    "    \n",
    "    # acceleration\n",
    "    for p in particles:\n",
    "        p.acc = p.res_force/p.mass\n",
    "    \n",
    "    w = wMin-(i*(wMax-wMin)/max_iters)\n",
    "    \n",
    "    # velocity\n",
    "    for p in particles:\n",
    "        p.velocity = w*p.velocity+rnd.rand()*p.acceleration+rnd.rand()*(gbest - p.params)\n",
    "    \n",
    "    # position\n",
    "    for p in particles:\n",
    "        p.params = p.params + p.velocity\n",
    "    convergence[i] = gbest_score\n",
    "    \n",
    "sys.stdout.write('\\rMPSOGSA is training ESN (Iteration = ' + str(i+1) + ', MSE = ' + str(gbest_score) + ')')\n",
    "sys.stdout.flush()\n",
    "    # save results \n",
    "Path='../Results/'\n",
    "FileName='BestParameters.csv'\n",
    "newdata=[max_iters,num_particles,p.params,convergence]\n",
    "PathFileName=os.path.join(Path,FileName)\n",
    "SV.SaveDataCsv(PathFileName,newdata)\n",
    "\n"
   ]
  },
  {
   "cell_type": "code",
   "execution_count": 12,
   "metadata": {},
   "outputs": [
    {
     "name": "stderr",
     "output_type": "stream",
     "text": [
      "ERROR:root:File `'PSOGSAESN.py'` not found.\n"
     ]
    }
   ],
   "source": [
    "%run PSOGSAESN.py max_iters num_particles"
   ]
  },
  {
   "cell_type": "code",
   "execution_count": null,
   "metadata": {},
   "outputs": [],
   "source": []
  }
 ],
 "metadata": {
  "kernelspec": {
   "display_name": "Python 3",
   "language": "python",
   "name": "python3"
  },
  "language_info": {
   "codemirror_mode": {
    "name": "ipython",
    "version": 3
   },
   "file_extension": ".py",
   "mimetype": "text/x-python",
   "name": "python",
   "nbconvert_exporter": "python",
   "pygments_lexer": "ipython3",
   "version": "3.6.8"
  }
 },
 "nbformat": 4,
 "nbformat_minor": 2
}
