{
 "cells": [
  {
   "cell_type": "code",
   "execution_count": null,
   "metadata": {},
   "outputs": [
    {
     "name": "stdout",
     "output_type": "stream",
     "text": [
      "Test error: 1.6856239225902153e-07\n",
      "Test error: 2.5900331229565e-07\n",
      "> \u001b[0;32m<ipython-input-1-2cc37670d529>\u001b[0m(13)\u001b[0;36m<module>\u001b[0;34m()\u001b[0m\n",
      "\u001b[0;32m     12 \u001b[0;31m        \u001b[0mlossH\u001b[0m\u001b[0;34m.\u001b[0m\u001b[0mappend\u001b[0m\u001b[0;34m(\u001b[0m\u001b[0;34m[\u001b[0m\u001b[0;34m]\u001b[0m\u001b[0;34m)\u001b[0m\u001b[0;34m\u001b[0m\u001b[0;34m\u001b[0m\u001b[0m\n",
      "\u001b[0m\u001b[0;32m---> 13 \u001b[0;31m        \u001b[0;32mfor\u001b[0m \u001b[0mk\u001b[0m \u001b[0;32min\u001b[0m \u001b[0mrange\u001b[0m\u001b[0;34m(\u001b[0m\u001b[0mlen\u001b[0m\u001b[0;34m(\u001b[0m\u001b[0mlamba\u001b[0m\u001b[0;34m)\u001b[0m\u001b[0;34m)\u001b[0m\u001b[0;34m:\u001b[0m\u001b[0;34m\u001b[0m\u001b[0;34m\u001b[0m\u001b[0m\n",
      "\u001b[0m\u001b[0;32m     14 \u001b[0;31m            \u001b[0mtmp\u001b[0m\u001b[0;34m=\u001b[0m\u001b[0;34m[\u001b[0m\u001b[0;34m]\u001b[0m\u001b[0;34m\u001b[0m\u001b[0;34m\u001b[0m\u001b[0m\n",
      "\u001b[0m\n",
      "ipdb> lossH.shape\n",
      "*** AttributeError: 'list' object has no attribute 'shape'\n",
      "ipdb> len(lossH)\n",
      "1\n",
      "ipdb> lossH\n",
      "[[2.1378285227733576e-07]]\n",
      "ipdb> tmp\n",
      "[1.6856239225902153e-07, 2.5900331229565e-07]\n",
      "ipdb> c\n",
      "Test error: 1.79181998386065e-07\n",
      "Test error: 1.91005824605891e-07\n",
      "> \u001b[0;32m<ipython-input-1-2cc37670d529>\u001b[0m(13)\u001b[0;36m<module>\u001b[0;34m()\u001b[0m\n",
      "\u001b[0;32m     12 \u001b[0;31m        \u001b[0mlossH\u001b[0m\u001b[0;34m.\u001b[0m\u001b[0mappend\u001b[0m\u001b[0;34m(\u001b[0m\u001b[0;34m[\u001b[0m\u001b[0;34m]\u001b[0m\u001b[0;34m)\u001b[0m\u001b[0;34m\u001b[0m\u001b[0;34m\u001b[0m\u001b[0m\n",
      "\u001b[0m\u001b[0;32m---> 13 \u001b[0;31m        \u001b[0;32mfor\u001b[0m \u001b[0mk\u001b[0m \u001b[0;32min\u001b[0m \u001b[0mrange\u001b[0m\u001b[0;34m(\u001b[0m\u001b[0mlen\u001b[0m\u001b[0;34m(\u001b[0m\u001b[0mlamba\u001b[0m\u001b[0;34m)\u001b[0m\u001b[0;34m)\u001b[0m\u001b[0;34m:\u001b[0m\u001b[0;34m\u001b[0m\u001b[0;34m\u001b[0m\u001b[0m\n",
      "\u001b[0m\u001b[0;32m     14 \u001b[0;31m            \u001b[0mtmp\u001b[0m\u001b[0;34m=\u001b[0m\u001b[0;34m[\u001b[0m\u001b[0;34m]\u001b[0m\u001b[0;34m\u001b[0m\u001b[0;34m\u001b[0m\u001b[0m\n",
      "\u001b[0m\n"
     ]
    }
   ],
   "source": [
    "import numpy as np\n",
    "import matplotlib.pyplot as plt\n",
    "import TorchESNWithRegularation as TN\n",
    "from ipdb import set_trace\n",
    "\n",
    "lamba=np.linspace(0,1,11)\n",
    "hiddensize =np.linspace(0,1,6)\n",
    "numLyers=np.linspace(0,1,11)\n",
    "lossH=[]\n",
    "for w in range(len(numLyers)):\n",
    "    for p in range(len(hiddensize)):\n",
    "        lossH.append([])\n",
    "        for k in range(len(lamba)):\n",
    "            tmp=[]\n",
    "            for i in range(3):\n",
    "                tmp.append(TN.torch_ESN([hiddensize[p],numLyers[w],0.001,lamba[k]]))\n",
    "            lossH[p].append(np.mean(np.array(tmp)))\n",
    "    set_trace(lossH)\n",
    "    print(l)\n",
    "    np.save('../Results/RegularizationChangesHiddensize'+str(numLyers[w]),lossH)\n",
    "    fig1 = plt.gcf()\n",
    "    plt.subplot(111)\n",
    "    plt.style.use('ggplot')\n",
    "    for i in range(len(hiddensize)):\n",
    "        plt.plot(lossH[i], lw=2)\n",
    "    plt.xlabel('Regularization rate')\n",
    "    plt.ylabel('Error')\n",
    "    plt.draw()\n",
    "    plt.legend((10, 110, 210, 310, 410, 510))\n",
    "    fig1.savefig('../Results/RegularizationChangesHiddensize'+str(numLyers[w])+'.png',dpi=600)  \n",
    "    plt.show()"
   ]
  },
  {
   "cell_type": "code",
   "execution_count": 4,
   "metadata": {},
   "outputs": [
    {
     "ename": "SyntaxError",
     "evalue": "invalid character in identifier (<ipython-input-4-266c759fcf09>, line 3)",
     "output_type": "error",
     "traceback": [
      "\u001b[0;36m  File \u001b[0;32m\"<ipython-input-4-266c759fcf09>\"\u001b[0;36m, line \u001b[0;32m3\u001b[0m\n\u001b[0;31m    （hiddensize+0.02）*500\u001b[0m\n\u001b[0m              ^\u001b[0m\n\u001b[0;31mSyntaxError\u001b[0m\u001b[0;31m:\u001b[0m invalid character in identifier\n"
     ]
    }
   ],
   "source": [
    "import numpy as np\n",
    "hiddensize =hiddensize =np.linspace(0,1,6)\n",
    "（hiddensize+0.02）*500\n"
   ]
  },
  {
   "cell_type": "code",
   "execution_count": 7,
   "metadata": {},
   "outputs": [
    {
     "data": {
      "text/plain": [
       "array([ 10., 110., 210., 310., 410., 510.])"
      ]
     },
     "execution_count": 7,
     "metadata": {},
     "output_type": "execute_result"
    }
   ],
   "source": [
    "np.loa"
   ]
  }
 ],
 "metadata": {
  "kernelspec": {
   "display_name": "Python 3",
   "language": "python",
   "name": "python3"
  },
  "language_info": {
   "codemirror_mode": {
    "name": "ipython",
    "version": 3
   },
   "file_extension": ".py",
   "mimetype": "text/x-python",
   "name": "python",
   "nbconvert_exporter": "python",
   "pygments_lexer": "ipython3",
   "version": "3.6.8"
  }
 },
 "nbformat": 4,
 "nbformat_minor": 2
}
