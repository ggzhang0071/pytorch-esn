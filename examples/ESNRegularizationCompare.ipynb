{
 "cells": [
  {
   "cell_type": "code",
   "execution_count": 1,
   "metadata": {},
   "outputs": [],
   "source": [
    "import numpy as np\n",
    "import matplotlib.pyplot as plt\n",
    "import TorchESNWithRegularation as TN\n",
    "from ipdb import set_trace\n",
    "\n",
    "lamba=np.linspace(0,1,11)\n",
    "hiddensize =[0,0.01,0.03,0.05,0.1]\n",
    "numLyers=np.linspace(1,9,5)\n",
    "loss=[]\n",
    "for p in range(len(numLyers)):\n",
    "    loss.append([])\n",
    "    for k  in range(len(hiddensize)):\n",
    "        loss[p].append([])\n",
    "        for i in range(10):\n",
    "            loss[p][k].append(TN.torch_ESN([hiddensize[k],0.3,0.001,lamba[i]]))\n",
    "\n",
    "fig1 = plt.gcf()\n",
    "plt.subplot(111)\n",
    "plt.style.use('ggplot')\n",
    "leg=[]\n",
    "for p in range(len(numLyers)):\n",
    "    for i in range(len(hiddensize)):\n",
    "#         set_trace()\n",
    "        leg.append(str(numLyers[p])+'_'+str(hiddensize[i]))\n",
    "        plt.plot(loss[p][i], lw=2)\n",
    "plt.xlabel('Regularization rate')\n",
    "plt.ylabel('Error')\n",
    "plt.draw()\n",
    "plt.legend(tuple(leg))\n",
    "fig1.savefig('../Results/RegularizationChangesAndHiddensize.png',dpi=600)  \n",
    "\n",
    "plt.show()\n"
   ]
  }
 ],
 "metadata": {
  "kernelspec": {
   "display_name": "Python 3",
   "language": "python",
   "name": "python3"
  },
  "language_info": {
   "codemirror_mode": {
    "name": "ipython",
    "version": 3
   },
   "file_extension": ".py",
   "mimetype": "text/x-python",
   "name": "python",
   "nbconvert_exporter": "python",
   "pygments_lexer": "ipython3",
   "version": "3.6.8"
  }
 },
 "nbformat": 4,
 "nbformat_minor": 2
}
