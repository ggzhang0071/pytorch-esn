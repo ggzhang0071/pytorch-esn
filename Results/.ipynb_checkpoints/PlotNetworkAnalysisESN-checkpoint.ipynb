{
 "cells": [
  {
   "cell_type": "code",
   "execution_count": 1,
   "metadata": {},
   "outputs": [],
   "source": [
    "import torch\n",
    "import numpy as np\n",
    "import matplotlib.pyplot as plt\n",
    "import os\n",
    "import networkx as nx\n",
    "from ipdb import set_trace"
   ]
  },
  {
   "cell_type": "markdown",
   "metadata": {},
   "source": [
    "# 权值演化"
   ]
  },
  {
   "cell_type": "code",
   "execution_count": null,
   "metadata": {},
   "outputs": [],
   "source": [
    "for p in range(0,5000,1000):\n",
    "    WeightAlls=torch.load('weights'+str(p)+'.pt')\n",
    "    G=nx.Graph()\n",
    "    node=[]\n",
    "    for i in range(len(WeightAlls)-1):\n",
    "        [Weight,High]=WeightAlls[i].shape\n",
    "#         print(WeightAlls[i].shape)\n",
    "        for j in range(Weight):\n",
    "            node.append((torch.mean(WeightAlls[i][j,:]).tolist()+torch.mean(WeightAlls[i][:,j]).tolist())*1000)\n",
    "    G.add_nodes_from(node)\n",
    "#     set_trace()\n",
    "    nx.draw_networkx_nodes(G, pos=nx.random_layout(G), nodelist=node, node_size=node)\n",
    "    plt.show()"
   ]
  },
  {
   "cell_type": "markdown",
   "metadata": {},
   "source": [
    "# 拓扑演化"
   ]
  },
  {
   "cell_type": "code",
   "execution_count": null,
   "metadata": {},
   "outputs": [],
   "source": [
    "for p in range(0,5000,1000):\n",
    "    WeightAlls=torch.load('weights'+str(p)+'.pt')\n",
    "    G=nx.Graph()\n",
    "    node=[]\n",
    "    for i in range(len(WeightAlls)-1):\n",
    "        [Weight,High]=WeightAlls[i].shape\n",
    "#         print(WeightAlls[i].shape)\n",
    "        for j in range(Weight):\n",
    "            for k in range(High):\n",
    "                if WeightAlls[i][j,k]>0.1:\n",
    "                    G.add_edges_from([(j,k)])\n",
    "#     set_trace()\n",
    "    d = dict(G.degree)\n",
    "    edges=list(G.edges())\n",
    "    G.remove_edges_from(edges)\n",
    "    nx.draw(G, nodelist=d.keys(), pos=nx.random_layout(G), node_size=[v*0.1  for v in d.values()])\n",
    "    plt.show()"
   ]
  },
  {
   "cell_type": "markdown",
   "metadata": {},
   "source": [
    "# 临近性"
   ]
  },
  {
   "cell_type": "code",
   "execution_count": 1,
   "metadata": {},
   "outputs": [
    {
     "name": "stderr",
     "output_type": "stream",
     "text": [
      "/opt/conda/lib/python3.6/site-packages/networkx/drawing/nx_pylab.py:565: MatplotlibDeprecationWarning: isinstance(..., numbers.Number)\n",
      "  if cb.is_numlike(alpha):\n"
     ]
    },
    {
     "data": {
      "text/plain": [
       "<Figure size 640x480 with 1 Axes>"
      ]
     },
     "metadata": {},
     "output_type": "display_data"
    },
    {
     "data": {
      "text/plain": [
       "<Figure size 640x480 with 1 Axes>"
      ]
     },
     "metadata": {},
     "output_type": "display_data"
    },
    {
     "data": {
      "text/plain": [
       "<Figure size 640x480 with 1 Axes>"
      ]
     },
     "metadata": {},
     "output_type": "display_data"
    }
   ],
   "source": [
    "import torch\n",
    "import numpy as np\n",
    "import matplotlib.pyplot as plt\n",
    "import os\n",
    "import networkx as nx\n",
    "from ipdb import set_trace\n",
    "factor=20\n",
    "\n",
    "WeightAlls=torch.load('./weights'+str(p)+'.pt')\n",
    "G=nx.Graph()\n",
    "node=[]\n",
    "for i in range(len(WeightAlls)-1):\n",
    "    [Weight,High]=WeightAlls[i].shape\n",
    "#         print(WeightAlls[i].shape)\n",
    "    for j in range(Weight):\n",
    "        for k in range(High):\n",
    "#                 set_trace()\n",
    "            if WeightAlls[i][j,k]>0.99:\n",
    "                G.add_edge(j,k,color='r',weight=1)\n",
    "            elif WeightAlls[i][j,k]<-0.99:\n",
    "                G.add_edge(j,k,color='g',weight=1)\n",
    "pos = nx.random_layout(G)\n",
    "\n",
    " edges = G.edges()\n",
    "colors = [G[u][v]['color'] for u,v in edges]\n",
    "weights = [G[u][v]['weight'] for u,v in edges]\n",
    "#     plt.figure(3,figsize=(6,6)) \n",
    "nx.draw_networkx(G, pos, edges=edges, edge_color=colors, width=weights, node_size=0.1)\n",
    "plt.savefig('LocalConnectivity'+str(p)+'.png',dpi=600)\n",
    "plt.show()"
   ]
  },
  {
   "cell_type": "code",
   "execution_count": null,
   "metadata": {},
   "outputs": [],
   "source": []
  }
 ],
 "metadata": {
  "kernelspec": {
   "display_name": "Python 3",
   "language": "python",
   "name": "python3"
  },
  "language_info": {
   "codemirror_mode": {
    "name": "ipython",
    "version": 3
   },
   "file_extension": ".py",
   "mimetype": "text/x-python",
   "name": "python",
   "nbconvert_exporter": "python",
   "pygments_lexer": "ipython3",
   "version": "3.6.8"
  }
 },
 "nbformat": 4,
 "nbformat_minor": 2
}
