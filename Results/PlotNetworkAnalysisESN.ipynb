{
 "cells": [
  {
   "cell_type": "code",
   "execution_count": 1,
   "metadata": {},
   "outputs": [],
   "source": [
    "import torch\n",
    "import numpy as np\n",
    "import matplotlib.pyplot as plt\n",
    "import os\n",
    "import networkx as nx\n",
    "from ipdb import set_trace"
   ]
  },
  {
   "cell_type": "markdown",
   "metadata": {},
   "source": [
    "# 权值演化"
   ]
  },
  {
   "cell_type": "code",
   "execution_count": null,
   "metadata": {},
   "outputs": [],
   "source": [
    "for p in range(0,5000,1000):\n",
    "    WeightAlls=torch.load('weights'+str(p)+'.pt')\n",
    "    G=nx.Graph()\n",
    "    node=[]\n",
    "    for i in range(len(WeightAlls)-1):\n",
    "        [Weight,High]=WeightAlls[i].shape\n",
    "#         print(WeightAlls[i].shape)\n",
    "        for j in range(Weight):\n",
    "            node.append((torch.mean(WeightAlls[i][j,:]).tolist()+torch.mean(WeightAlls[i][:,j]).tolist())*1000)\n",
    "    G.add_nodes_from(node)\n",
    "#     set_trace()\n",
    "    nx.draw_networkx_nodes(G, pos=nx.random_layout(G), nodelist=node, node_size=node)\n",
    "    plt.show()"
   ]
  },
  {
   "cell_type": "markdown",
   "metadata": {},
   "source": [
    "# 拓扑演化"
   ]
  },
  {
   "cell_type": "code",
   "execution_count": 6,
   "metadata": {},
   "outputs": [
    {
     "data": {
      "image/png": "[encoded data removed]",
      "text/plain": [
       "<Figure size 432x288 with 1 Axes>"
      ]
     },
     "metadata": {},
     "output_type": "display_data"
    },
    {
     "data": {
      "image/png": "[encoded data removed]",
      "text/plain": [
       "<Figure size 432x288 with 1 Axes>"
      ]
     },
     "metadata": {},
     "output_type": "display_data"
    },
    {
     "data": {
      "image/png": "[encoded data removed]",
      "text/plain": [
       "<Figure size 432x288 with 1 Axes>"
      ]
     },
     "metadata": {},
     "output_type": "display_data"
    },
    {
     "data": {
      "image/png": "[encoded data removed]",
      "text/plain": [
       "<Figure size 432x288 with 1 Axes>"
      ]
     },
     "metadata": {},
     "output_type": "display_data"
    },
    {
     "data": {
      "image/png": "[encoded data removed]",
      "text/plain": [
       "<Figure size 432x288 with 1 Axes>"
      ]
     },
     "metadata": {},
     "output_type": "display_data"
    }
   ],
   "source": [
    "for p in range(0,5000,1000):\n",
    "    WeightAlls=torch.load('weights'+str(p)+'.pt')\n",
    "    G=nx.Graph()\n",
    "    node=[]\n",
    "    for i in range(len(WeightAlls)-1):\n",
    "        [Weight,High]=WeightAlls[i].shape\n",
    "#         print(WeightAlls[i].shape)\n",
    "        for j in range(Weight):\n",
    "            for k in range(High):\n",
    "                if WeightAlls[i][j,k]>0.1:\n",
    "                    G.add_edges_from([(j,k)])\n",
    "#     set_trace()\n",
    "    d = dict(G.degree)\n",
    "    edges=list(G.edges())\n",
    "    G.remove_edges_from(edges)\n",
    "    nx.draw(G, nodelist=d.keys(), pos=nx.random_layout(G), node_size=[v*10  for v in d.values()])\n",
    "    plt.show()"
   ]
  },
  {
   "cell_type": "code",
   "execution_count": 1,
   "metadata": {},
   "outputs": [
    {
     "data": {
      "text/plain": [
       "<Figure size 600x600 with 1 Axes>"
      ]
     },
     "metadata": {},
     "output_type": "display_data"
    }
   ],
   "source": [
    "import numpy as np\n",
    "import matplotlib.pyplot as plt\n",
    "from pyts.image import RecurrencePlot\n",
    "\n",
    "# Parameters\n",
    "n_samples, n_timestamps = 100, 144\n",
    "\n",
    "# Toy dataset\n",
    "rng = np.random.RandomState(41)\n",
    "X = rng.randn(n_samples, n_timestamps)\n",
    "\n",
    "# Recurrence plot transformation\n",
    "rp = RecurrencePlot(dimension=7, time_delay=3,\n",
    "                    threshold='percentage_points',\n",
    "                    percentage=30)\n",
    "X_rp = rp.fit_transform(X)\n",
    "\n",
    "# Show the results for the first time series\n",
    "plt.figure(figsize=(6, 6))\n",
    "plt.imshow(X_rp[0], cmap='binary', origin='lower')\n",
    "plt.title('Recurrence Plot', fontsize=14)\n",
    "plt.show()"
   ]
  },
  {
   "cell_type": "code",
   "execution_count": 3,
   "metadata": {},
   "outputs": [],
   "source": [
    "import numpy as np\n",
    "from ipdb import set_trace\n",
    "\n",
    "def rec_plot(s, eps=None, steps=None):\n",
    "    if eps==None: eps=0.1\n",
    "    if steps==None: steps=10\n",
    "    N = s.size\n",
    "#     set_trace()\n",
    "    S = np.repeat(s[None,:], N, axis=0)\n",
    "    Z = np.floor(np.abs(S-S.T)/eps)\n",
    "    Z[Z>steps] = steps\n",
    "\n",
    "    return Z\n"
   ]
  },
  {
   "cell_type": "code",
   "execution_count": null,
   "metadata": {},
   "outputs": [],
   "source": [
    "import numpy as np\n",
    "import pylab as plt\n",
    "# from plot_recurrance import rec_plot\n",
    "\n",
    "sig = np.random.uniform(size=100)\n",
    "rec = rec_plot(sig)\n",
    "plt.imshow(rec)\n",
    "plt.show()"
   ]
  },
  {
   "cell_type": "code",
   "execution_count": null,
   "metadata": {},
   "outputs": [],
   "source": []
  }
 ],
 "metadata": {
  "kernelspec": {
   "display_name": "Python 3",
   "language": "python",
   "name": "python3"
  },
  "language_info": {
   "codemirror_mode": {
    "name": "ipython",
    "version": 3
   },
   "file_extension": ".py",
   "mimetype": "text/x-python",
   "name": "python",
   "nbconvert_exporter": "python",
   "pygments_lexer": "ipython3",
   "version": "3.6.8"
  }
 },
 "nbformat": 4,
 "nbformat_minor": 2
}
